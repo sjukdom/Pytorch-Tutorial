{
 "cells": [
  {
   "cell_type": "markdown",
   "metadata": {},
   "source": [
    "# Introducción a Pytorch\n",
    "\n",
    "Es un framework para crear redes neuronales usando un _grafo dinamico_ (creado en tiempo de ejecución), a diferencia de _tensorflow_ donde el grafo es estático, lo cual implica crear el grafo computacional inicialmente para despues compilarlo.\n",
    "\n",
    "La sintaxis para crear vectores, matrices y tensores es muy parecida a la de la biblioteca __numpy__. La ventaja respecto a numpy es que en pytorch se pueden realizar las operaciones tensoriales en una _GPU_, lo cual proporciona mayor velocidad."
   ]
  },
  {
   "cell_type": "code",
   "execution_count": 1,
   "metadata": {},
   "outputs": [
    {
     "name": "stdout",
     "output_type": "stream",
     "text": [
      "Collecting torch\n",
      "\u001b[?25l  Downloading https://files.pythonhosted.org/packages/ac/23/a4b5c189dd624411ec84613b717594a00480282b949e3448d189c4aa4e47/torch-1.1.0-cp37-cp37m-manylinux1_x86_64.whl (676.9MB)\n",
      "\u001b[K    100% |████████████████████████████████| 676.9MB 55kB/s eta 0:00:011 1% |▍                               | 8.8MB 1.3MB/s eta 0:08:35    14% |████▊                           | 98.9MB 2.7MB/s eta 0:03:37    14% |████▊                           | 100.3MB 2.2MB/s eta 0:04:24    15% |█████                           | 105.5MB 2.4MB/s eta 0:03:58    19% |██████                          | 128.8MB 2.5MB/s eta 0:03:38    19% |██████▏                         | 130.6MB 1.5MB/s eta 0:06:07    22% |███████▎                        | 153.7MB 1.6MB/s eta 0:05:24    24% |███████▊                        | 163.4MB 2.2MB/s eta 0:03:58    24% |███████▊                        | 164.1MB 1.9MB/s eta 0:04:27    25% |████████▎                       | 174.6MB 2.1MB/s eta 0:03:59    27% |████████▉                       | 187.8MB 2.5MB/s eta 0:03:13    47% |███████████████▎                | 322.8MB 1.8MB/s eta 0:03:21    47% |███████████████▍                | 324.5MB 1.6MB/s eta 0:03:45    50% |████████████████                | 338.8MB 2.1MB/s eta 0:02:40    58% |██████████████████▉             | 397.7MB 1.1MB/s eta 0:04:19    64% |████████████████████▊           | 438.0MB 2.1MB/s eta 0:01:56    77% |████████████████████████▉       | 525.6MB 2.2MB/s eta 0:01:08    79% |█████████████████████████▌      | 540.2MB 933kB/s eta 0:02:27    81% |██████████████████████████      | 548.7MB 1.6MB/s eta 0:01:20    81% |██████████████████████████      | 551.5MB 745kB/s eta 0:02:49    83% |██████████████████████████▉     | 567.7MB 2.1MB/s eta 0:00:52    86% |███████████████████████████▋    | 583.9MB 2.1MB/s eta 0:00:45��█████████████████    | 593.2MB 56.0MB/s eta 0:00:02��███████████████████████████▌   | 602.4MB 9.3MB/s eta 0:00:09    96% |██████████████████████████████▊ | 650.1MB 1.6MB/s eta 0:00:17█████ | 654.5MB 65.6MB/s eta 0:00:01    99% |███████████████████████████████▉| 673.1MB 923kB/s eta 0:00:05\n",
      "\u001b[?25hCollecting torchvision\n",
      "\u001b[?25l  Downloading https://files.pythonhosted.org/packages/cc/9b/208f48d5a5013bdb0c27a84a02df4fcf5fd24ab5902667c11e554a12b681/torchvision-0.3.0-cp37-cp37m-manylinux1_x86_64.whl (2.6MB)\n",
      "\u001b[K    100% |████████████████████████████████| 2.6MB 1.3MB/s ta 0:00:01\n",
      "\u001b[?25hRequirement already satisfied: numpy in /home/sjkdm/anaconda3/lib/python3.7/site-packages (from torch) (1.16.2)\n",
      "Requirement already satisfied: pillow>=4.1.1 in /home/sjkdm/anaconda3/lib/python3.7/site-packages (from torchvision) (5.4.1)\n",
      "Requirement already satisfied: six in /home/sjkdm/anaconda3/lib/python3.7/site-packages (from torchvision) (1.12.0)\n",
      "Installing collected packages: torch, torchvision\n",
      "Successfully installed torch-1.1.0 torchvision-0.3.0\n"
     ]
    }
   ],
   "source": [
    "!pip install torch torchvision"
   ]
  },
  {
   "cell_type": "code",
   "execution_count": 2,
   "metadata": {},
   "outputs": [],
   "source": [
    "import torch"
   ]
  },
  {
   "cell_type": "markdown",
   "metadata": {},
   "source": [
    "## Tensores\n",
    "\n",
    "Los tensores son una generalizacion de las matrices, donde la dimension puede ser arbitraria. A las siguientes estructuras se les considera como un tensor:\n",
    "\n",
    "* Escalar (Tensor orden 0)\n",
    "* Vector (Tensor orden 1)\n",
    "* Matriz (Tensor orden 2)\n",
    "* Arreglo n-dimensional (Tensor orden n)"
   ]
  },
  {
   "cell_type": "markdown",
   "metadata": {},
   "source": [
    "Como se crean los tensores?\n",
    "\n",
    "__Forma 1__\n",
    "\n",
    "La forma mas sencilla de crear un tensor es pasando como argumento a la funcion _torch.tensor()_ una lista de numeros con la dimension que sea deseada."
   ]
  },
  {
   "cell_type": "code",
   "execution_count": 17,
   "metadata": {},
   "outputs": [
    {
     "name": "stdout",
     "output_type": "stream",
     "text": [
      "Tensor orden 0\n",
      " tensor(2)\n",
      "\n",
      "Tensor orden 1\n",
      " tensor([1, 2, 3])\n",
      "\n",
      "Tensor orden 2\n",
      " tensor([[1, 2, 3],\n",
      "        [4, 5, 6]])\n",
      "\n",
      "Tensor orden 3\n",
      " tensor([[[1, 2],\n",
      "         [3, 4],\n",
      "         [5, 6]]])\n"
     ]
    }
   ],
   "source": [
    "# Escalar\n",
    "tensor0 = torch.tensor(2)\n",
    "# Vector \n",
    "tensor1 = torch.tensor([1, 2, 3])\n",
    "# Matriz\n",
    "tensor2 = torch.tensor([[1, 2, 3], [4, 5, 6]])\n",
    "# Tensor \n",
    "tensor3 = torch.tensor([[[1, 2], [3, 4], [5, 6]]])\n",
    "\n",
    "print(\"Tensor orden 0\\n\", tensor0)\n",
    "print(\"\\nTensor orden 1\\n\", tensor1)\n",
    "print(\"\\nTensor orden 2\\n\", tensor2)\n",
    "print(\"\\nTensor orden 3\\n\", tensor3)"
   ]
  },
  {
   "cell_type": "markdown",
   "metadata": {},
   "source": [
    "__Forma 2__ \n",
    "\n",
    "Tambien es posible crear tensores con numeros aleatorios, especificando la dimension."
   ]
  },
  {
   "cell_type": "code",
   "execution_count": 28,
   "metadata": {},
   "outputs": [
    {
     "data": {
      "text/plain": [
       "tensor([[[-0.8163,  1.5270],\n",
       "         [-0.0556,  0.3132],\n",
       "         [-0.1403,  0.1503]],\n",
       "\n",
       "        [[ 0.0087, -2.0099],\n",
       "         [-1.4215,  0.3611],\n",
       "         [-0.8454,  0.4412]],\n",
       "\n",
       "        [[-0.9886, -1.1823],\n",
       "         [ 0.7727, -0.5316],\n",
       "         [-0.3817, -0.4101]]])"
      ]
     },
     "execution_count": 28,
     "metadata": {},
     "output_type": "execute_result"
    }
   ],
   "source": [
    "# Tensor aleatorio (distribucion normal)\n",
    "torch.randn((3, 3, 2))"
   ]
  },
  {
   "cell_type": "code",
   "execution_count": 46,
   "metadata": {},
   "outputs": [
    {
     "data": {
      "text/plain": [
       "tensor([[-5,  0,  3],\n",
       "        [ 0, -1, -4],\n",
       "        [ 1,  1, -5]])"
      ]
     },
     "execution_count": 46,
     "metadata": {},
     "output_type": "execute_result"
    }
   ],
   "source": [
    "# Tensor de enteros aleatorio \n",
    "min_num = -5\n",
    "max_num = 5\n",
    "torch.randint(min_num, max_num, (3, 3))"
   ]
  },
  {
   "cell_type": "code",
   "execution_count": 49,
   "metadata": {},
   "outputs": [
    {
     "data": {
      "text/plain": [
       "tensor([[-2.5178e+29,  3.0831e-41, -2.5188e+29],\n",
       "        [ 3.0831e-41,  1.1210e-43,  0.0000e+00]])"
      ]
     },
     "execution_count": 49,
     "metadata": {},
     "output_type": "execute_result"
    }
   ],
   "source": [
    "# Tensor sin inicializar\n",
    "torch.empty(2, 3)"
   ]
  },
  {
   "cell_type": "code",
   "execution_count": 53,
   "metadata": {},
   "outputs": [
    {
     "data": {
      "text/plain": [
       "tensor([[0., 0.],\n",
       "        [0., 0.]])"
      ]
     },
     "execution_count": 53,
     "metadata": {},
     "output_type": "execute_result"
    }
   ],
   "source": [
    "# Tensor de ceros\n",
    "torch.zeros(2, 2)"
   ]
  },
  {
   "cell_type": "code",
   "execution_count": 60,
   "metadata": {},
   "outputs": [
    {
     "data": {
      "text/plain": [
       "tensor([[1., 1.],\n",
       "        [1., 1.]])"
      ]
     },
     "execution_count": 60,
     "metadata": {},
     "output_type": "execute_result"
    }
   ],
   "source": [
    "# Tensor de unos\n",
    "torch.ones(2, 2)"
   ]
  },
  {
   "cell_type": "markdown",
   "metadata": {},
   "source": [
    "Adicionalmente, tambien es posible indicar el __tipo de dato__ que almacena el tensor.\n",
    "Entre los tipos de dato se encuentran:\n",
    "\n",
    "1. torch.float\n",
    "2. torch.float16\n",
    "3. torch.float32\n",
    "4. torch.float64\n",
    "5. torch.int\n",
    "6. torch.int8\n",
    "7. torch.int16\n",
    "8. torch.int32\n",
    "9. torch.int64\n",
    "10. torch.double (igual a torch.float64)\n",
    "11. torch.long (igual a torch.int64)\n",
    "\n",
    "Y la lista continua... "
   ]
  },
  {
   "cell_type": "code",
   "execution_count": 55,
   "metadata": {},
   "outputs": [
    {
     "data": {
      "text/plain": [
       "tensor([[ 0.7312,  0.1150, -0.4521],\n",
       "        [ 1.1894, -0.9336, -1.1414],\n",
       "        [ 0.1048, -1.1643,  0.5482]], dtype=torch.float64)"
      ]
     },
     "execution_count": 55,
     "metadata": {},
     "output_type": "execute_result"
    }
   ],
   "source": [
    "# Tensor aleatorio con numeros float64\n",
    "torch.randn((3, 3), dtype=torch.float64)"
   ]
  },
  {
   "cell_type": "markdown",
   "metadata": {},
   "source": [
    "### Atributos de los tensores\n",
    "\n",
    "Los tensores tienen los siguientes atributos:\n",
    "\n",
    "* size\n",
    "* shape\n",
    "\n",
    "Ambos nos dan la misma informacion (dimension del tensor) como veremos a continuacion."
   ]
  },
  {
   "cell_type": "code",
   "execution_count": 70,
   "metadata": {},
   "outputs": [
    {
     "name": "stdout",
     "output_type": "stream",
     "text": [
      "tensor([[[-0.0814,  0.2720],\n",
      "         [-0.6867, -0.5991],\n",
      "         [-1.1772, -0.2239]],\n",
      "\n",
      "        [[-0.7774, -0.0799],\n",
      "         [ 1.1914, -0.2238],\n",
      "         [ 0.4884, -0.6486]],\n",
      "\n",
      "        [[-0.3703, -0.8940],\n",
      "         [ 0.2936, -1.6881],\n",
      "         [ 0.0290,  1.0288]],\n",
      "\n",
      "        [[ 0.2434, -1.8130],\n",
      "         [-0.2106,  0.1639],\n",
      "         [ 1.3722,  0.9080]]])\n",
      "torch.Size([4, 3, 2])\n",
      "torch.Size([4, 3, 2])\n"
     ]
    }
   ],
   "source": [
    "x = torch.randn((4, 3, 2))\n",
    "\n",
    "print(x)\n",
    "print(x.size())\n",
    "print(x.shape)"
   ]
  },
  {
   "cell_type": "markdown",
   "metadata": {},
   "source": [
    "Para acceder a los elementos de un tensor se realiza de la siguiente manera:"
   ]
  },
  {
   "cell_type": "code",
   "execution_count": 84,
   "metadata": {},
   "outputs": [
    {
     "name": "stdout",
     "output_type": "stream",
     "text": [
      "tensor([[-0.0814,  0.2720],\n",
      "        [-0.6867, -0.5991],\n",
      "        [-1.1772, -0.2239]])\n",
      "\n",
      "tensor(-1.1772)\n",
      "\n",
      "tensor([-1.1772, -0.2239])\n",
      "\n",
      "tensor([-0.0814, -0.6867, -1.1772])\n",
      "\n"
     ]
    }
   ],
   "source": [
    "# Acceder a la matriz con indice 0\n",
    "print(x[0], end=\"\\n\\n\")\n",
    "\n",
    "# Acceder a al escalar en la fila 2 columna 0 de la matrix con indice 0\n",
    "print(x[0, 2, 0], end=\"\\n\\n\")\n",
    "\n",
    "# Acceder a la fila 2 de la matrix con indice 0\n",
    "print(x[0, 2, :], end=\"\\n\\n\")\n",
    "\n",
    "# Acceder a la columna 1 de la matriz con indice 0\n",
    "print(x[0, :, 0], end=\"\\n\\n\")"
   ]
  },
  {
   "cell_type": "markdown",
   "metadata": {},
   "source": [
    "### Operaciones con tensores\n",
    "\n",
    "Las operaciones que se pueden realizar con tensores son de dos tipos: _unarias_ y _binarias_.\n",
    "\n",
    "\n",
    "__Unarias__\n",
    "\n",
    "* Transpuesta\n",
    "* Traza\n",
    "* Rango\n",
    "* Exponenciacion\n",
    "* Logaritmo \n",
    "* Etc\n",
    "\n",
    "__Binarias__\n",
    "\n",
    "* Suma\n",
    "* Multiplicacion\n",
    "* Division\n",
    "\n",
    "Para algunas de estas operaciones existen 2 o mas posibles formas de ejecutarlas pero es mas conveniente usar la forma:\n",
    "\n",
    "    torch.operacion(tensor1, tensor2)\n",
    "\n",
    "Esto es debido a que el codigo asi es mas entendible."
   ]
  },
  {
   "cell_type": "code",
   "execution_count": 102,
   "metadata": {},
   "outputs": [
    {
     "name": "stdout",
     "output_type": "stream",
     "text": [
      "Tensor x:\n",
      " tensor([[ 0.4824,  0.3570, -1.0425],\n",
      "        [ 0.5805, -1.6540, -0.5782]])\n",
      "Tensor y:\n",
      " tensor([[-0.5272,  0.2653,  0.5429],\n",
      "        [-0.0039, -1.9772, -1.2429]])\n"
     ]
    }
   ],
   "source": [
    "x = torch.randn((2, 3))\n",
    "y = torch.randn((2, 3))\n",
    "\n",
    "print(\"Tensor x:\\n\", x)\n",
    "print(\"Tensor y:\\n\", y)"
   ]
  },
  {
   "cell_type": "markdown",
   "metadata": {},
   "source": [
    "__Unarias__"
   ]
  },
  {
   "cell_type": "code",
   "execution_count": 104,
   "metadata": {},
   "outputs": [
    {
     "data": {
      "text/plain": [
       "tensor([[ 0.4824,  0.5805],\n",
       "        [ 0.3570, -1.6540],\n",
       "        [-1.0425, -0.5782]])"
      ]
     },
     "execution_count": 104,
     "metadata": {},
     "output_type": "execute_result"
    }
   ],
   "source": [
    "# Transpuesta\n",
    "torch.t(x)"
   ]
  },
  {
   "cell_type": "code",
   "execution_count": 105,
   "metadata": {},
   "outputs": [
    {
     "data": {
      "text/plain": [
       "tensor([[1.6199, 1.4290, 0.3526],\n",
       "        [1.7869, 0.1913, 0.5609]])"
      ]
     },
     "execution_count": 105,
     "metadata": {},
     "output_type": "execute_result"
    }
   ],
   "source": [
    "# Exponenciacion\n",
    "torch.exp(x)"
   ]
  },
  {
   "cell_type": "code",
   "execution_count": 106,
   "metadata": {},
   "outputs": [
    {
     "data": {
      "text/plain": [
       "tensor(-1.1716)"
      ]
     },
     "execution_count": 106,
     "metadata": {},
     "output_type": "execute_result"
    }
   ],
   "source": [
    "# Traza\n",
    "torch.trace(x)"
   ]
  },
  {
   "cell_type": "code",
   "execution_count": 110,
   "metadata": {},
   "outputs": [
    {
     "data": {
      "text/plain": [
       "tensor([[-0.7291, -1.0300,     nan],\n",
       "        [-0.5439,     nan,     nan]])"
      ]
     },
     "execution_count": 110,
     "metadata": {},
     "output_type": "execute_result"
    }
   ],
   "source": [
    "# Logaritmo natural\n",
    "torch.log(x)"
   ]
  },
  {
   "cell_type": "code",
   "execution_count": 113,
   "metadata": {},
   "outputs": [
    {
     "data": {
      "text/plain": [
       "tensor(-1.8548)"
      ]
     },
     "execution_count": 113,
     "metadata": {},
     "output_type": "execute_result"
    }
   ],
   "source": [
    "# Suma de elementos\n",
    "torch.sum(x)"
   ]
  },
  {
   "cell_type": "code",
   "execution_count": 114,
   "metadata": {},
   "outputs": [
    {
     "data": {
      "text/plain": [
       "tensor(0.5805)"
      ]
     },
     "execution_count": 114,
     "metadata": {},
     "output_type": "execute_result"
    }
   ],
   "source": [
    "# Maximo elemento\n",
    "torch.max(x)"
   ]
  },
  {
   "cell_type": "code",
   "execution_count": 115,
   "metadata": {},
   "outputs": [
    {
     "data": {
      "text/plain": [
       "tensor(-1.6540)"
      ]
     },
     "execution_count": 115,
     "metadata": {},
     "output_type": "execute_result"
    }
   ],
   "source": [
    "# Minimo elemento\n",
    "torch.min(x)"
   ]
  },
  {
   "cell_type": "code",
   "execution_count": 117,
   "metadata": {},
   "outputs": [
    {
     "data": {
      "text/plain": [
       "tensor([ 0.4824, -1.6540])"
      ]
     },
     "execution_count": 117,
     "metadata": {},
     "output_type": "execute_result"
    }
   ],
   "source": [
    "# Obtener elementos de la diagonal principal\n",
    "torch.diag(x)"
   ]
  },
  {
   "cell_type": "code",
   "execution_count": 124,
   "metadata": {},
   "outputs": [
    {
     "data": {
      "text/plain": [
       "tensor([ 0.4824,  0.3570, -1.0425,  0.5805, -1.6540, -0.5782])"
      ]
     },
     "execution_count": 124,
     "metadata": {},
     "output_type": "execute_result"
    }
   ],
   "source": [
    "# \"Aplanar\" el tensor en un vector \n",
    "torch.flatten(x)"
   ]
  },
  {
   "cell_type": "code",
   "execution_count": 130,
   "metadata": {
    "scrolled": true
   },
   "outputs": [
    {
     "name": "stdout",
     "output_type": "stream",
     "text": [
      "tensor([[[-0.0048,  0.3574],\n",
      "         [ 0.1494, -0.5444]],\n",
      "\n",
      "        [[ 0.8425, -0.6865],\n",
      "         [-0.1043, -0.5195]]])\n",
      "\n",
      "tensor([[[10.7200,  7.0390],\n",
      "         [ 2.9419,  0.0948]],\n",
      "\n",
      "        [[ 1.0201, -1.3480],\n",
      "         [-0.2048, -1.6542]]])\n"
     ]
    }
   ],
   "source": [
    "# Inversa del tensor (debe ser cuadrado) \n",
    "z = torch.randn((2, 2, 2))\n",
    "\n",
    "print(z, end=\"\\n\\n\")\n",
    "print(torch.inverse(z))"
   ]
  },
  {
   "cell_type": "markdown",
   "metadata": {},
   "source": [
    "__Binarias__"
   ]
  },
  {
   "cell_type": "code",
   "execution_count": 94,
   "metadata": {},
   "outputs": [
    {
     "data": {
      "text/plain": [
       "tensor([[-1.6054, -0.1419,  0.4690],\n",
       "        [ 0.2520, -2.1024,  3.5347]])"
      ]
     },
     "execution_count": 94,
     "metadata": {},
     "output_type": "execute_result"
    }
   ],
   "source": [
    "# Suma \n",
    "torch.add(x, y)"
   ]
  },
  {
   "cell_type": "code",
   "execution_count": 122,
   "metadata": {},
   "outputs": [
    {
     "data": {
      "text/plain": [
       "tensor([[-0.7256,  0.5880],\n",
       "        [-1.0587,  3.9867]])"
      ]
     },
     "execution_count": 122,
     "metadata": {},
     "output_type": "execute_result"
    }
   ],
   "source": [
    "# Multiplicacion matricial\n",
    "torch.matmul(x, torch.t(y))"
   ]
  },
  {
   "cell_type": "code",
   "execution_count": 123,
   "metadata": {},
   "outputs": [
    {
     "data": {
      "text/plain": [
       "tensor([[-2.5431e-01,  9.4701e-02, -5.6597e-01],\n",
       "        [-2.2447e-03,  3.2703e+00,  7.1868e-01]])"
      ]
     },
     "execution_count": 123,
     "metadata": {},
     "output_type": "execute_result"
    }
   ],
   "source": [
    "# Multiplicacion (elemento a elemento)\n",
    "x * y"
   ]
  },
  {
   "cell_type": "markdown",
   "metadata": {},
   "source": [
    "## Calculo del gradiente de un tensor: Autograd\n",
    "\n",
    "En Pytorch el paquete _autograd_ proporciona la diferenciación de los tensores de forma automática para todas las operaciones que se pueden realizar con ellos.\n",
    "\n",
    "Los tensores a los cuales se les calcula el gradiente son aquellos que tienen el atributo __requires_grad__ como verdadero. Una vez activado ese atributo, pytorch se encarga de registrar las operaciones que se realizan sobre el tensor para calcular el gradiente con la función __backward()__.\n",
    "\n",
    "El gradiente una vez calculado se almacena como el atributo __.grad__ del tensor.\n",
    "\n",
    "Es importante mencionar también que los tensores tiene el atributo __.grad_fn__ el cual hace referencia a la función con la cual fueron creados, ejemplo: \n",
    "\n",
    "    z = torch.log(x) \n",
    "    \n",
    "La funcion asociada al tensor z es torch.log().\n",
    "\n",
    "Para los tensores que son creados manualmente por el programador tienen ese atributo como nulo (None).\n",
    "\n",
    "__Ejemplo__\n",
    "\n",
    "En el siguiente ejemplo realizamos creamos un tensor $x$ al cual se le realizan las operaciones:\n",
    "\n",
    "$y_i = x_i + 2$\n",
    "\n",
    "$z_i = 3y_i^2$\n",
    "\n",
    "$o = \\frac{1}{N}\\sum_i z_i$\n",
    "\n",
    "Posteriormente se calcula el gradiente."
   ]
  },
  {
   "cell_type": "code",
   "execution_count": 167,
   "metadata": {},
   "outputs": [
    {
     "data": {
      "text/plain": [
       "tensor([[1., 2.],\n",
       "        [3., 4.]], requires_grad=True)"
      ]
     },
     "execution_count": 167,
     "metadata": {},
     "output_type": "execute_result"
    }
   ],
   "source": [
    "'''\n",
    "    Como es un tensor definido por el programador no tiene el atributo grad_fn.\n",
    "    Los siguientes tensores, producto de las operaciones al tensor original x si\n",
    "    tienen este atributo.\n",
    "'''\n",
    "\n",
    "x = torch.tensor([[1., 2.], [3., 4.]], requires_grad=True)\n",
    "x"
   ]
  },
  {
   "cell_type": "code",
   "execution_count": 160,
   "metadata": {},
   "outputs": [
    {
     "data": {
      "text/plain": [
       "tensor([[3., 4.],\n",
       "        [5., 6.]], grad_fn=<AddBackward0>)"
      ]
     },
     "execution_count": 160,
     "metadata": {},
     "output_type": "execute_result"
    }
   ],
   "source": [
    "y = torch.add(x, 2)\n",
    "y"
   ]
  },
  {
   "cell_type": "code",
   "execution_count": 161,
   "metadata": {},
   "outputs": [
    {
     "data": {
      "text/plain": [
       "tensor([[ 27.,  48.],\n",
       "        [ 75., 108.]], grad_fn=<MulBackward0>)"
      ]
     },
     "execution_count": 161,
     "metadata": {},
     "output_type": "execute_result"
    }
   ],
   "source": [
    "z = torch.pow(y, 2) * 3\n",
    "z"
   ]
  },
  {
   "cell_type": "code",
   "execution_count": 162,
   "metadata": {},
   "outputs": [
    {
     "data": {
      "text/plain": [
       "tensor(64.5000, grad_fn=<MeanBackward0>)"
      ]
     },
     "execution_count": 162,
     "metadata": {},
     "output_type": "execute_result"
    }
   ],
   "source": [
    "o = z.mean()\n",
    "o "
   ]
  },
  {
   "cell_type": "markdown",
   "metadata": {},
   "source": [
    "__Cálculo del gradiente__\n",
    "\n",
    "Con la funcion __.backward(torch.tensor(N))__ donde N es la dimension del tensor de salida _out_. "
   ]
  },
  {
   "cell_type": "code",
   "execution_count": 163,
   "metadata": {},
   "outputs": [],
   "source": [
    "o.backward(torch.tensor(1.))"
   ]
  },
  {
   "cell_type": "code",
   "execution_count": 164,
   "metadata": {},
   "outputs": [
    {
     "name": "stdout",
     "output_type": "stream",
     "text": [
      "tensor([[4.5000, 6.0000],\n",
      "        [7.5000, 9.0000]])\n"
     ]
    }
   ],
   "source": [
    "print(x.grad)"
   ]
  },
  {
   "cell_type": "markdown",
   "metadata": {},
   "source": [
    "    El calculo del gradiente se puede expresar en forma matemática como:\n",
    "\n",
    "$$\\frac{\\partial{o}}{\\partial{x_i}} = \\frac{\\partial{o}}{\\partial{z_i}}\\frac{\\partial{z_i}}{\\partial{y_i}}\\frac{\\partial{y_i}}{\\partial{x_i}}$$\n",
    "\n",
    "$$ \\frac{\\partial{o}}{\\partial{z_i}} =  \\frac{1}{N}$$\n",
    "\n",
    "$$ \\frac{\\partial{z_i}}{\\partial{y_i}} =  6y_i$$\n",
    "\n",
    "$$ \\frac{\\partial{y_i}}{\\partial{x_i}} =  1$$\n",
    "\n",
    "    Al multiplicar estos terminos:\n",
    "\n",
    "$$ \\frac{\\partial{o}}{\\partial{x_i}} = \\frac{6}{N} y_i $$ \n",
    "\n",
    "    Teniendo en cuenta que el tensor x es el siguiente y que el valor de N = 4\n",
    "    \n",
    "$$ x = \\begin{bmatrix}1 & 2\\\\3 & 4\\end{bmatrix}$$\n",
    "\n",
    "    Calculamos para cada valor de x:\n",
    "\n",
    "$$ \\frac{\\partial{o}}{\\partial{x_1}} = \\frac{6}{4} * 3 = 4.5$$ \n",
    "\n",
    "$$ \\frac{\\partial{o}}{\\partial{x_2}} = \\frac{6}{4} * 4 = 6.0$$ \n",
    "\n",
    "$$ \\frac{\\partial{o}}{\\partial{x_3}} = \\frac{6}{4} * 5 = 7.5$$ \n",
    "\n",
    "$$ \\frac{\\partial{o}}{\\partial{x_4}} = \\frac{6}{4} * 6 = 9.0$$ \n",
    "\n",
    "    Asi se obtiene el gradiente de x:\n",
    "    \n",
    "$$ \\nabla_X{O} = \\begin{bmatrix} 4.5 & 6.0\\\\7.5 & 9.0\\end{bmatrix}$$\n",
    "\n",
    "    El cual como se puede observar, es el resultado que obtuvimos con pytorch."
   ]
  }
 ],
 "metadata": {
  "kernelspec": {
   "display_name": "Python 3",
   "language": "python",
   "name": "python3"
  },
  "language_info": {
   "codemirror_mode": {
    "name": "ipython",
    "version": 3
   },
   "file_extension": ".py",
   "mimetype": "text/x-python",
   "name": "python",
   "nbconvert_exporter": "python",
   "pygments_lexer": "ipython3",
   "version": "3.7.3"
  }
 },
 "nbformat": 4,
 "nbformat_minor": 2
}
