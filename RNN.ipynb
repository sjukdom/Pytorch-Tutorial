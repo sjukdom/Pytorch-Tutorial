{
  "nbformat": 4,
  "nbformat_minor": 0,
  "metadata": {
    "colab": {
      "name": "RNN.ipynb",
      "version": "0.3.2",
      "provenance": [],
      "include_colab_link": true
    },
    "kernelspec": {
      "name": "python3",
      "display_name": "Python 3"
    },
    "accelerator": "GPU"
  },
  "cells": [
    {
      "cell_type": "markdown",
      "metadata": {
        "id": "view-in-github",
        "colab_type": "text"
      },
      "source": [
        "<a href=\"https://colab.research.google.com/github/sjukdom/Pytorch-Tutorial/blob/master/RNN.ipynb\" target=\"_parent\"><img src=\"https://colab.research.google.com/assets/colab-badge.svg\" alt=\"Open In Colab\"/></a>"
      ]
    },
    {
      "cell_type": "code",
      "metadata": {
        "id": "ObL-lbNqvGO_",
        "colab_type": "code",
        "colab": {
          "base_uri": "https://localhost:8080/",
          "height": 68
        },
        "outputId": "462d071f-a688-4b18-d132-8c8b7073a163"
      },
      "source": [
        "#!pip3 install http://download.pytorch.org/whl/cu80/torch-0.3.0.post4-cp36-cp36m-linux_x86_64.whl "
      ],
      "execution_count": 3,
      "outputs": [
        {
          "output_type": "stream",
          "text": [
            "Requirement already satisfied: torch==0.3.0.post4 from http://download.pytorch.org/whl/cu80/torch-0.3.0.post4-cp36-cp36m-linux_x86_64.whl in /usr/local/lib/python3.6/dist-packages (0.3.0.post4)\n",
            "Requirement already satisfied: pyyaml in /usr/local/lib/python3.6/dist-packages (from torch==0.3.0.post4) (3.13)\n",
            "Requirement already satisfied: numpy in /usr/local/lib/python3.6/dist-packages (from torch==0.3.0.post4) (1.16.3)\n"
          ],
          "name": "stdout"
        }
      ]
    },
    {
      "cell_type": "code",
      "metadata": {
        "id": "LUiM1GmQymtp",
        "colab_type": "code",
        "colab": {
          "base_uri": "https://localhost:8080/",
          "height": 51
        },
        "outputId": "2b150f4f-7a33-4fd5-f20c-b888d3cb5457"
      },
      "source": [
        "#!pip3 install nltk"
      ],
      "execution_count": 1,
      "outputs": [
        {
          "output_type": "stream",
          "text": [
            "Requirement already satisfied: nltk in /usr/local/lib/python3.6/dist-packages (3.2.5)\n",
            "Requirement already satisfied: six in /usr/local/lib/python3.6/dist-packages (from nltk) (1.12.0)\n"
          ],
          "name": "stdout"
        }
      ]
    },
    {
      "cell_type": "code",
      "metadata": {
        "id": "wglAEcfwxrXu",
        "colab_type": "code",
        "colab": {}
      },
      "source": [
        "import nltk\n",
        "import torch"
      ],
      "execution_count": 0,
      "outputs": []
    },
    {
      "cell_type": "code",
      "metadata": {
        "id": "2WYGHLI70K5s",
        "colab_type": "code",
        "colab": {
          "base_uri": "https://localhost:8080/",
          "height": 102
        },
        "outputId": "2d1d2bff-ccf8-433e-ee69-76399f2142f0"
      },
      "source": [
        "nltk.download('gutenberg')\n",
        "nltk.download('punkt')"
      ],
      "execution_count": 20,
      "outputs": [
        {
          "output_type": "stream",
          "text": [
            "[nltk_data] Downloading package gutenberg to /root/nltk_data...\n",
            "[nltk_data]   Package gutenberg is already up-to-date!\n",
            "[nltk_data] Downloading package punkt to /root/nltk_data...\n",
            "[nltk_data]   Unzipping tokenizers/punkt.zip.\n"
          ],
          "name": "stdout"
        },
        {
          "output_type": "execute_result",
          "data": {
            "text/plain": [
              "True"
            ]
          },
          "metadata": {
            "tags": []
          },
          "execution_count": 20
        }
      ]
    },
    {
      "cell_type": "code",
      "metadata": {
        "id": "LQoo9SB-wiiE",
        "colab_type": "code",
        "colab": {}
      },
      "source": [
        "use_cuda = True"
      ],
      "execution_count": 0,
      "outputs": []
    },
    {
      "cell_type": "code",
      "metadata": {
        "id": "EdJbJFcL7cdB",
        "colab_type": "code",
        "colab": {
          "base_uri": "https://localhost:8080/",
          "height": 323
        },
        "outputId": "10b7e52f-8e88-439f-c980-6809dbabf249"
      },
      "source": [
        " nltk.corpus.gutenberg.fileids()"
      ],
      "execution_count": 7,
      "outputs": [
        {
          "output_type": "execute_result",
          "data": {
            "text/plain": [
              "['austen-emma.txt',\n",
              " 'austen-persuasion.txt',\n",
              " 'austen-sense.txt',\n",
              " 'bible-kjv.txt',\n",
              " 'blake-poems.txt',\n",
              " 'bryant-stories.txt',\n",
              " 'burgess-busterbrown.txt',\n",
              " 'carroll-alice.txt',\n",
              " 'chesterton-ball.txt',\n",
              " 'chesterton-brown.txt',\n",
              " 'chesterton-thursday.txt',\n",
              " 'edgeworth-parents.txt',\n",
              " 'melville-moby_dick.txt',\n",
              " 'milton-paradise.txt',\n",
              " 'shakespeare-caesar.txt',\n",
              " 'shakespeare-hamlet.txt',\n",
              " 'shakespeare-macbeth.txt',\n",
              " 'whitman-leaves.txt']"
            ]
          },
          "metadata": {
            "tags": []
          },
          "execution_count": 7
        }
      ]
    },
    {
      "cell_type": "code",
      "metadata": {
        "id": "-CZ-LgGb0ZIz",
        "colab_type": "code",
        "colab": {
          "base_uri": "https://localhost:8080/",
          "height": 51
        },
        "outputId": "05d0d716-bd76-45c6-ee1f-f338f0743d06"
      },
      "source": [
        "sh = nltk.corpus.gutenberg.sents('shakespeare-hamlet.txt')\n",
        "\n",
        "print(sh[0])\n",
        "print('Sentences = {}'.format(len(sh)))"
      ],
      "execution_count": 42,
      "outputs": [
        {
          "output_type": "stream",
          "text": [
            "['[', 'The', 'Tragedie', 'of', 'Hamlet', 'by', 'William', 'Shakespeare', '1599', ']']\n",
            "Sentences = 3106\n"
          ],
          "name": "stdout"
        }
      ]
    },
    {
      "cell_type": "code",
      "metadata": {
        "id": "-olzqZhr0smw",
        "colab_type": "code",
        "colab": {}
      },
      "source": [
        "def preprocessing(corpus, kind):\n",
        "    prepCorpus = []\n",
        "    lexicon = []\n",
        "    tokens = []\n",
        "    if kind == 'sentenceList':\n",
        "        for sentence in corpus:\n",
        "            for token in sentence:\n",
        "                if token.isalpha():\n",
        "                    tokens.append(token.lower())\n",
        "                    if token.lower() not in lexicon:\n",
        "                        lexicon.append(token.lower())\n",
        "            prepCorpus.append('<BOS> ' + ' '.join(tokens) + ' <EOS>')\n",
        "            tokens.clear()\n",
        "    lexicon.append('<BOS>')\n",
        "    lexicon.append('<EOS>')\n",
        "    return [prepCorpus, lexicon]"
      ],
      "execution_count": 0,
      "outputs": []
    },
    {
      "cell_type": "code",
      "metadata": {
        "id": "Bgnqr3RM4gUx",
        "colab_type": "code",
        "colab": {}
      },
      "source": [
        "sentences, lexicon = preprocessing(sh, 'sentenceList')"
      ],
      "execution_count": 0,
      "outputs": []
    },
    {
      "cell_type": "code",
      "metadata": {
        "id": "zRInwJ9f9NPj",
        "colab_type": "code",
        "colab": {
          "base_uri": "https://localhost:8080/",
          "height": 102
        },
        "outputId": "5cf42f0a-4c1d-48e2-c30b-99263849676c"
      },
      "source": [
        "for s in sentences[:5]:\n",
        "    print(s)"
      ],
      "execution_count": 89,
      "outputs": [
        {
          "output_type": "stream",
          "text": [
            "<BOS> the tragedie of hamlet by william shakespeare <EOS>\n",
            "<BOS> actus primus <EOS>\n",
            "<BOS> scoena prima <EOS>\n",
            "<BOS> enter barnardo and francisco two centinels <EOS>\n",
            "<BOS> barnardo <EOS>\n"
          ],
          "name": "stdout"
        }
      ]
    },
    {
      "cell_type": "code",
      "metadata": {
        "id": "F_BbOnoa-Mq3",
        "colab_type": "code",
        "colab": {
          "base_uri": "https://localhost:8080/",
          "height": 102
        },
        "outputId": "4ab1ef9c-0bc2-4ef5-ca17-014e4f669142"
      },
      "source": [
        "for l in lexicon[-5:]:\n",
        "    print(l)"
      ],
      "execution_count": 93,
      "outputs": [
        {
          "output_type": "stream",
          "text": [
            "peale\n",
            "ordenance\n",
            "finis\n",
            "<BOS>\n",
            "<EOS>\n"
          ],
          "name": "stdout"
        }
      ]
    },
    {
      "cell_type": "code",
      "metadata": {
        "id": "j1KMC9dv-ONt",
        "colab_type": "code",
        "colab": {}
      },
      "source": [
        "def makeDicts(Sigma):\n",
        "    word2index = {}\n",
        "    index2word = {}\n",
        "    for idx, word in enumerate(Sigma):\n",
        "        word2index[word] = idx\n",
        "        index2word[idx] = word\n",
        "    return [word2index, index2word]"
      ],
      "execution_count": 0,
      "outputs": []
    },
    {
      "cell_type": "code",
      "metadata": {
        "id": "fBnE6lBy_5Lb",
        "colab_type": "code",
        "colab": {}
      },
      "source": [
        "word2index, index2word = makeDicts(lexicon)"
      ],
      "execution_count": 0,
      "outputs": []
    },
    {
      "cell_type": "code",
      "metadata": {
        "id": "HySWF5Af__4P",
        "colab_type": "code",
        "colab": {
          "base_uri": "https://localhost:8080/",
          "height": 34
        },
        "outputId": "96035f7d-fefe-4587-dca2-4a269b2bb0ea"
      },
      "source": [
        "sentIdx1 = [word2index[word] for word in sentences[45].split()]\n",
        "\n",
        "print(sentIdx1)"
      ],
      "execution_count": 103,
      "outputs": [
        {
          "output_type": "stream",
          "text": [
            "[4699, 106, 107, 108, 73, 19, 4700]\n"
          ],
          "name": "stdout"
        }
      ]
    },
    {
      "cell_type": "code",
      "metadata": {
        "id": "62Dtho75BT5-",
        "colab_type": "code",
        "colab": {
          "base_uri": "https://localhost:8080/",
          "height": 34
        },
        "outputId": "112ac0bb-c4c8-46c9-ab2f-cff2baca586c"
      },
      "source": [
        "idx1Sent = [index2word[indx] for indx in sentIdx1]\n",
        "\n",
        "print(idx1Sent)"
      ],
      "execution_count": 105,
      "outputs": [
        {
          "output_type": "stream",
          "text": [
            "['<BOS>', 'say', 'what', 'is', 'horatio', 'there', '<EOS>']\n"
          ],
          "name": "stdout"
        }
      ]
    }
  ]
}